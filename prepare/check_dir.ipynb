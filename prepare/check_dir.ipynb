{
 "cells": [
  {
   "cell_type": "code",
   "execution_count": 1,
   "metadata": {},
   "outputs": [],
   "source": [
    "import os\n",
    "\n",
    "def find_missing_subfolders(folder1, folder2):\n",
    "    # 获取文件夹 1 中的所有子文件夹名字\n",
    "    subfolders1 = set([name for name in os.listdir(folder1) if os.path.isdir(os.path.join(folder1, name))])\n",
    "    # 获取文件夹 2 中的所有子文件夹名字\n",
    "    subfolders2 = set([name for name in os.listdir(folder2) if os.path.isdir(os.path.join(folder2, name))])\n",
    "\n",
    "    # 找出文件夹 1 相比文件夹 2 缺少的子文件夹名字\n",
    "    missing_subfolders = subfolders2 - subfolders1\n",
    "\n",
    "    return missing_subfolders"
   ]
  },
  {
   "cell_type": "code",
   "execution_count": null,
   "metadata": {},
   "outputs": [
    {
     "data": {
      "text/plain": [
       "1490"
      ]
     },
     "execution_count": 6,
     "metadata": {},
     "output_type": "execute_result"
    }
   ],
   "source": [
    "path1 = \"/home/data2/zls/code/ABAW/emi/dataset/test_data/images/averaged\"\n",
    "path2 = \"/home/data2/zls/code/ABAW/emi/dataset/test_data/audio\"\n",
    "image_list = []\n",
    "audio_list = []\n",
    "for image_path in os.listdir(path1):\n",
    "    filename = image_path.split('_')[0]\n",
    "    image_list.append(filename)\n",
    "for audio_path in os.listdir(path2):\n",
    "    filename = audio_path.split('.')[0]\n",
    "    audio_list.append(filename)    \n",
    "missing_filename = set(image_list) - set(audio_list)\n",
    "len(missing_filename)\n",
    "# 对于没有音频的，用图像来直接预测。"
   ]
  }
 ],
 "metadata": {
  "kernelspec": {
   "display_name": "hugface",
   "language": "python",
   "name": "python3"
  },
  "language_info": {
   "codemirror_mode": {
    "name": "ipython",
    "version": 3
   },
   "file_extension": ".py",
   "mimetype": "text/x-python",
   "name": "python",
   "nbconvert_exporter": "python",
   "pygments_lexer": "ipython3",
   "version": "3.10.0"
  }
 },
 "nbformat": 4,
 "nbformat_minor": 2
}
